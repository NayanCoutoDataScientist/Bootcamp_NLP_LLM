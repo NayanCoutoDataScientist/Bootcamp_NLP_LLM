{
 "cells": [
  {
   "metadata": {},
   "cell_type": "markdown",
   "source": "# 72. Modelos GPT e OpenAI",
   "id": "e19d046892ca4e07"
  },
  {
   "metadata": {},
   "cell_type": "code",
   "source": "!pip install openai",
   "id": "1d00e791afebd601",
   "outputs": [],
   "execution_count": null
  },
  {
   "metadata": {},
   "cell_type": "code",
   "source": "from openai import OpenAI",
   "id": "70960f1552ebc758",
   "outputs": [],
   "execution_count": null
  },
  {
   "metadata": {},
   "cell_type": "code",
   "source": [
    "client = OpenAI(api_key=\"sk-proj-...\")\n",
    "model = \"gpt-3.5-turbo-16k\""
   ],
   "id": "91054a58146e4f5b",
   "outputs": [],
   "execution_count": null
  },
  {
   "metadata": {},
   "cell_type": "code",
   "source": [
    "response = client.chat.completions.create(\n",
    "    \n",
    "    model= model,\n",
    "    messages=[\n",
    "        {\"role\": \"user\", \"content\": \"Conte-me uma piada\"},\n",
    "    ]\n",
    ")"
   ],
   "id": "dab2c393fabe39ab",
   "outputs": [],
   "execution_count": null
  },
  {
   "metadata": {},
   "cell_type": "code",
   "source": "print(response)",
   "id": "ac452f4327c8a290",
   "outputs": [],
   "execution_count": null
  },
  {
   "metadata": {},
   "cell_type": "code",
   "source": [
    "message = response.choices[0].message.content\n",
    "print(message)"
   ],
   "id": "125837a326ab2565",
   "outputs": [],
   "execution_count": null
  },
  {
   "metadata": {},
   "cell_type": "code",
   "source": [
    "response = client.chat.completions.create(\n",
    "\n",
    "    model= model,\n",
    "    messages=[\n",
    "        {\"role\": \"system\", \"content\": \"Você é um assistente de negócios fictício.\"},\n",
    "        {\"role\": \"user\", \"content\": \"Qual o melhor investimento de baixo risco recomendado para este ano?\"}\n",
    "    ]\n",
    ")"
   ],
   "id": "f56e6ca32feab5ee",
   "outputs": [],
   "execution_count": null
  },
  {
   "metadata": {},
   "cell_type": "code",
   "outputs": [],
   "execution_count": null,
   "source": [
    "message = response.choices[0].message.content\n",
    "print(message)"
   ],
   "id": "e7881fa018cf9451"
  },
  {
   "metadata": {},
   "cell_type": "code",
   "outputs": [],
   "execution_count": null,
   "source": [
    "response = client.chat.completions.create(\n",
    "\n",
    "    model= model,\n",
    "    messages=[\n",
    "        {\"role\": \"assistant\", \"content\": message},\n",
    "        {\"role\": \"user\", \"content\": \"Quais os riscos reacionado a cada um destes investimentos?\"}\n",
    "    ]\n",
    ")"
   ],
   "id": "fac98b9a32b36bb3"
  },
  {
   "metadata": {},
   "cell_type": "code",
   "outputs": [],
   "execution_count": null,
   "source": [
    "message = response.choices[0].message.content\n",
    "print(message)"
   ],
   "id": "7e4bab8b0f2be16"
  }
 ],
 "metadata": {
  "kernelspec": {
   "display_name": "Python 3",
   "language": "python",
   "name": "python3"
  },
  "language_info": {
   "codemirror_mode": {
    "name": "ipython",
    "version": 2
   },
   "file_extension": ".py",
   "mimetype": "text/x-python",
   "name": "python",
   "nbconvert_exporter": "python",
   "pygments_lexer": "ipython2",
   "version": "2.7.6"
  }
 },
 "nbformat": 4,
 "nbformat_minor": 5
}
