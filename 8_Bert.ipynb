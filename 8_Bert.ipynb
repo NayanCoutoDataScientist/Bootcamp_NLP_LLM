{
 "cells": [
  {
   "metadata": {},
   "cell_type": "markdown",
   "source": "# 64. BERT",
   "id": "4ff0f848ced09754"
  },
  {
   "metadata": {},
   "cell_type": "markdown",
   "source": "## BERT: Bidirectional Encoder Representations from Transformers",
   "id": "3527a0d3f55bc099"
  },
  {
   "metadata": {},
   "cell_type": "markdown",
   "source": [
    "> Baseado em transformers.\n",
    "> \n",
    "> Possuí apenas a parte do Encode, pois o objetivo é gerar uma representação da linguagem.\n",
    "> \n",
    "> Bidirecional: Capaz de ler o texto em ambas as direções.\n",
    "> \n",
    "> A representação do embedding para cada palavra é contextualizada.\n",
    "> \n",
    "> O contexto é obtido buscando a relação entre as palavras utilizando multi-head attention.\n",
    "> \n",
    "> 24 variações:\n",
    ">> Tiny - 2 * 128\n",
    ">>\n",
    ">> Mini - 4 * 256\n",
    ">>\n",
    ">> Small - 4 * 512\n",
    ">>\n",
    ">> Medium - 8 * 512\n",
    ">>\n",
    ">> Base - 12 * 768\n",
    ">>\n",
    ">> Large - 24 * 1024\n",
    "\n",
    "**Pré Treinamento**\n",
    "> Treinamento não supervisionado.\n",
    ">\n",
    "> Bert em inglês, utiliza Toronto BookCorpus e Wikipédia.\n",
    ">\n",
    "> 4 dias utilizando 16 TPUs.\n",
    ">\n",
    "> Modelos pré-treinados estão disponíveis.\n",
    ">> Masked language modeling\n",
    ">>\n",
    ">> Next sentence prediction\n",
    ">\n",
    "> Pode-se fazer ajuste fino (ajuste de pesos - custo baixo)\n",
    "> \n",
    "> Masked Language Modeling (MLM):\n",
    ">> 15% dos tokes são mascarados, recebendo [MASK].\n",
    ">>\n",
    ">> O modelo tenta prever o token mascarado através de um processo de treinamento (ajuste de pesos) baseado nas palavras não mascaradas.\n",
    ">>\n",
    ">> O modelo retorna uma lista de previsões com probabilidades.\n",
    ">\n",
    "> Next Sentence Prediction (NSP):\n",
    ">> São utilizadas pares de sentenças.\n",
    ">>\n",
    ">> O objetivo é prever se a segunda sentença é a continuação da primeira.\n",
    ">>\n",
    ">> Problema de classificação binário: IsNext, NotNext.\n",
    "\n",
    "**Bert**\n",
    "> O Texto deve ser convertido em 3 embedding layers:\n",
    ">> Token\n",
    ">>\n",
    ">> Segment\n",
    ">>\n",
    ">> Position\n",
    "\n",
    "**Tokenizer**\n",
    "> Se a palavra não estiver presente no vocabulário, é dividida n vezes até que seja encontrada no vocabulário.\n",
    ">\n",
    "> Palavras divididas são sinalizadas com ##\n",
    "\n",
    "**Bert em Português**\n",
    "> O Bert padrão é um modelo em inglês\n",
    "> \n",
    "> Alternativas:\n",
    ">> Multilingual Bert\n",
    ">>> Treinado utilizando a Wikipédia em mais de 100 idiomas\n",
    ">>> Open source\n",
    ">>> Cased e Uncased\n",
    ">>\n",
    ">> BERTimbau\n",
    ">>> Base e Large"
   ],
   "id": "5837f246370d2a8d"
  },
  {
   "metadata": {},
   "cell_type": "markdown",
   "source": "# 65. Variantes de BERT",
   "id": "c47d17fea2dc932d"
  },
  {
   "metadata": {},
   "cell_type": "markdown",
   "source": "## ALBERT",
   "id": "1054497048b7e53c"
  },
  {
   "metadata": {},
   "cell_type": "markdown",
   "source": [
    "> Versão mais leve.\n",
    "> \n",
    "> Também possui diferentes versões.\n",
    "> \n",
    "> Menos parâmetros, utilizando técnicas de redução de parâmetros.\n",
    "> \n",
    "> Possui performance superior a vários outros modelos baseados em Transformers."
   ],
   "id": "b393e344eb829f1f"
  },
  {
   "metadata": {},
   "cell_type": "markdown",
   "source": "## roBERTa",
   "id": "11e4b35900ae8c0"
  },
  {
   "metadata": {},
   "cell_type": "markdown",
   "source": [
    "> Robust Optimized BERT Pretraining Approach.\n",
    "> \n",
    "> Implementado em PyTorch.\n",
    "> \n",
    "> Sem etapa de previsão de próxima sentença.\n",
    "> \n",
    ">  Treinado em diferentes tipos de textos (Notícias, novelas, etc.)."
   ],
   "id": "b9da7384f8a070fd"
  },
  {
   "metadata": {},
   "cell_type": "markdown",
   "source": "## Electra",
   "id": "843c81a1324fcec6"
  },
  {
   "metadata": {},
   "cell_type": "markdown",
   "source": [
    "> Efficient Learning an Encoder that Classifies Token Replacement Accurately.\n",
    "> \n",
    "> Utiliza replace token detection technique (RTD) ao invés de máscaras.\n",
    "> \n",
    "> RTD: Tokens são substituídos ao invés de mascarados.\n",
    "> \n",
    "> Diferentes versões."
   ],
   "id": "8dfd15c03731e8e1"
  },
  {
   "metadata": {},
   "cell_type": "markdown",
   "source": "## XLNet",
   "id": "8581b64ea3a1c277"
  },
  {
   "metadata": {},
   "cell_type": "markdown",
   "source": [
    "> Generalized Autoregressive Pretraining for Language Understanding.\n",
    "> \n",
    "> Baseado em \"Larger Bidirectional Transformer\": XL.\n",
    "> \n",
    "> Utiliza a técnica de permutação onde os tokens são previstos de forma aleatória."
   ],
   "id": "b6a2f62ce5b1d27e"
  },
  {
   "metadata": {},
   "cell_type": "markdown",
   "source": "## DistilBERT",
   "id": "59ca491f383a7cc0"
  },
  {
   "metadata": {},
   "cell_type": "markdown",
   "source": [
    "> Versão menor e mais rápida do BERT.\n",
    "> \n",
    "> Desenvolvido pelo Hugging Face.\n",
    "> \n",
    "> Baseado em knowledge distillation.\n",
    ">> Compressão de modelo, onde um modelo menor (estudante) é treinado a partit de um modelo maior (teacher)."
   ],
   "id": "5b1303fe0e1dad3b"
  },
  {
   "metadata": {},
   "cell_type": "markdown",
   "source": "# 66. Hugging Face e OpenAI",
   "id": "c6971fc4c72ff6ef"
  },
  {
   "metadata": {},
   "cell_type": "markdown",
   "source": [
    "> Empresas especializadas em modelos de IA.\n",
    "> \n",
    "> Especialmente NLP.\n",
    "> \n",
    "> OpenAI criado os modelos GPT."
   ],
   "id": "c25fce0285b1c171"
  },
  {
   "metadata": {},
   "cell_type": "markdown",
   "source": "## Hugging Face",
   "id": "a3d8007e823ffac1"
  },
  {
   "metadata": {},
   "cell_type": "markdown",
   "source": [
    "> Comunidade de IA - Empresa:\n",
    ">> Modelos.\n",
    ">> Datasets.\n",
    ">> Serviços como Suporte Especializado, AutoNLP...\n",
    "> \n",
    "> Biblioteca Transformers.\n",
    "\n",
    "**Pipeline**\n",
    "> Análise de Sentimento.\n",
    "> \n",
    "> Geração de textos.\n",
    "> \n",
    "> Perguntas e Respostas.\n",
    "> \n",
    "> NER.\n",
    "> \n",
    "> Preencha a lacuna.\n",
    "> \n",
    "> Resumos.\n",
    "> \n",
    "> Tradução."
   ],
   "id": "87365b190db7c784"
  },
  {
   "metadata": {},
   "cell_type": "markdown",
   "source": "## OpenAI",
   "id": "afa33f964692b40d"
  },
  {
   "metadata": {},
   "cell_type": "markdown",
   "source": [
    "**Família de modelos GPT**\n",
    "> Com maior e menor capacidade/custo/performance.\n",
    "> \n",
    "> Método e Modelo Genérico para qualquer tarefa.\n",
    "> \n",
    "> Modelo na Núvem.\n",
    "> \n",
    "> Possível fine-tuning.\n",
    "> \n",
    "> Cobrança por Token.\n",
    "> \n",
    "> Necessita autenticação por chave.\n",
    "\n",
    "https://platform.openai.com/api-keys\n",
    "\n",
    "**API Key**\n",
    "> sk-proj-...\n",
    "\n"
   ],
   "id": "d7385fc54f004273"
  },
  {
   "metadata": {},
   "cell_type": "markdown",
   "source": "# 67. Modelos Pré-treinados",
   "id": "8f873799219a0306"
  },
  {
   "metadata": {},
   "cell_type": "markdown",
   "source": "https://huggingface.co/models",
   "id": "fc07782afa76c4ce"
  },
  {
   "metadata": {},
   "cell_type": "markdown",
   "source": "# 68. Aplicação de Perguntas e Respostas",
   "id": "3d17889e2f03127"
  },
  {
   "metadata": {},
   "cell_type": "code",
   "source": [
    "!pip install transformers\n",
    "!pip install transformers[tf]\n",
    "!pip install h5py"
   ],
   "id": "c91e5d0899139ded",
   "outputs": [],
   "execution_count": null
  },
  {
   "metadata": {},
   "cell_type": "code",
   "source": [
    "import transformers\n",
    "from transformers import pipeline"
   ],
   "id": "957b031b1fb6fe1e",
   "outputs": [],
   "execution_count": null
  },
  {
   "metadata": {},
   "cell_type": "code",
   "source": "qea = pipeline(\"question-answering\", model=\"pierreguillou/bert-large-cased-squad-v1.1-portuguese\")",
   "id": "e46319e1e22c0c30",
   "outputs": [],
   "execution_count": null
  },
  {
   "metadata": {},
   "cell_type": "code",
   "source": [
    "texto =  'Carl Edward Sagan foi um cientista planetário, astrônomo, astrobiólogo, astrofísico, escritor, divulgador científico e ativista norte-americano.'\n",
    "#pergunta = 'Quais as profissões de Sagan?'\n",
    "pergunta = 'Quem é Carl Sagan?'"
   ],
   "id": "11cce590118e39d2",
   "outputs": [],
   "execution_count": null
  },
  {
   "metadata": {},
   "cell_type": "code",
   "source": "resposta = qea(question=pergunta, context=texto)",
   "id": "95da7df2563375b1",
   "outputs": [],
   "execution_count": null
  },
  {
   "metadata": {},
   "cell_type": "code",
   "source": "print(pergunta)",
   "id": "56293463f15c35e4",
   "outputs": [],
   "execution_count": null
  },
  {
   "metadata": {},
   "cell_type": "code",
   "source": "print(resposta['answer'])",
   "id": "f681ba5913c8d49f",
   "outputs": [],
   "execution_count": null
  },
  {
   "metadata": {},
   "cell_type": "code",
   "source": "print(resposta['score'])",
   "id": "e1b7ea3a90692d2b",
   "outputs": [],
   "execution_count": null
  },
  {
   "metadata": {},
   "cell_type": "markdown",
   "source": "# 69. Aplicação de Preenchimento de Lacunas",
   "id": "3dbf953f56001a1f"
  },
  {
   "metadata": {},
   "cell_type": "code",
   "source": [
    "import transformers\n",
    "from transformers import pipeline"
   ],
   "id": "b4764e9294a22847",
   "outputs": [],
   "execution_count": null
  },
  {
   "metadata": {},
   "cell_type": "code",
   "source": "mascarar = pipeline(\"fill-mask\", model=\"neuralmind/bert-base-portuguese-cased\")",
   "id": "180c1be79898c77",
   "outputs": [],
   "execution_count": null
  },
  {
   "metadata": {},
   "cell_type": "code",
   "source": [
    "texto = mascarar(\"Existe uma chance do copo cair no [MASK]\")\n",
    "for x in range(len(texto)):\n",
    "    print(texto[x])"
   ],
   "id": "1daaf6e0fa2be047",
   "outputs": [],
   "execution_count": null
  },
  {
   "metadata": {},
   "cell_type": "code",
   "source": [
    "texto = mascarar(\"Brasília é a capital do [MASK]\")\n",
    "for x in range(len(texto)):\n",
    "    print(texto[x])"
   ],
   "id": "92a23a8e74b5fa33",
   "outputs": [],
   "execution_count": null
  },
  {
   "metadata": {},
   "cell_type": "markdown",
   "source": "# 70. Aplicação de Resumos",
   "id": "e991bc5256c016f"
  },
  {
   "metadata": {},
   "cell_type": "code",
   "source": [
    "import transformers\n",
    "from transformers import pipeline"
   ],
   "id": "c3e5904b9b9528b4",
   "outputs": [],
   "execution_count": null
  },
  {
   "metadata": {},
   "cell_type": "code",
   "source": "resumir = pipeline(\"summarization\")",
   "id": "9ade8719c151c57e",
   "outputs": [],
   "execution_count": null
  },
  {
   "metadata": {},
   "cell_type": "code",
   "source": [
    "texto = \"\"\"\n",
    "INTRODUÇÃO \n",
    "Este \n",
    "trabalho \n",
    "tem como objetivo fundamental \n",
    "proporcionar ao estudante e interessado pela economia industrial \n",
    "um panorama de como funcionam as indústrias de \n",
    "transformação e de beneficiamento de um país, de uma região, \n",
    "ou de um município, que as tem como a maior fonte de emprego \n",
    "e de renda social, assim como a geração de produção para a \n",
    "sociedade. Os setores essenciais da economia são: o primário \n",
    "(agricultura, pecuária e extração vegetal); o terciário (o setor de \n",
    "serviços em geral); e, o secundário (as indústrias propriamente \n",
    "ditas), acionados pelas respectivas participações de trabalho, \n",
    "capital fixo e recursos naturais, acionados pela tecnologia que \n",
    "implementa o processo de produção da economia. Tudo isto \n",
    "constitui um sistema, que entrelaça as relações existentes entre \n",
    "todos que influenciam a dinamização econômica e social, ao \n",
    "proporcionar, inicialmente a produção, emprego e renda; depois, \n",
    "o crescimento com o desenvolvimento sócio-econômico; por \n",
    "conseqüência, o bem-estar aos membros da sociedade, quer \n",
    "ocupados, economicamente ativos ou desocupados. \n",
    "Em uma economia industrial, o primeiro ponto que deve \n",
    "ser abordado é a estrutura sistêmica, ou a interconexão que \n",
    "existe entre as diversas partes da economia, na qual a economia \n",
    "de transformação e beneficiamento está interligada, devido às \n",
    "necessidades que existem de matérias-primas e insumos, assim \n",
    "como as técnicas de comercialização que estão no setor serviços \n",
    "de um país. Daí, parte-se para o entendimento do conceito de \n",
    "indústria em sua adversidade para que se possam caracterizar os \n",
    "componentes participantes da economia industrial. Este setor de \n",
    "transformação está dividido em gêneros, com a sua subdivisão \n",
    "em ramos industriais que estão caracterizados como dinâmicos e \n",
    "tradicionais devido ao seu nível de utilização de capital \n",
    "intensivo, ou mão-de-obra intensiva. A indústria está \n",
    "decomposta em tamanhos de empresa, isto é, ser pequena, média \n",
    "ou \n",
    "grande empreendimento industrial. Um outro fator \n",
    "importante quanto à estrutura industrial é a influência da \n",
    "localização, do mercado, da tecnologia, e das oportunidades de \n",
    "investimentos como fundamentais ao desenvolvimento do \n",
    "sistema econômico.\n",
    "\"\"\""
   ],
   "id": "313ffef521d1e23",
   "outputs": [],
   "execution_count": null
  },
  {
   "metadata": {},
   "cell_type": "code",
   "source": [
    "resumo = resumir(texto, max_length=100, min_length=50)\n",
    "print(resumo)"
   ],
   "id": "3ad2160c17a631f3",
   "outputs": [],
   "execution_count": null
  },
  {
   "metadata": {},
   "cell_type": "markdown",
   "source": "# 71. Aplicação de Geração de Texto",
   "id": "803c5c06141b50e3"
  },
  {
   "metadata": {
    "ExecuteTime": {
     "end_time": "2024-06-22T20:04:46.218602Z",
     "start_time": "2024-06-22T20:04:27.843882Z"
    }
   },
   "cell_type": "code",
   "source": [
    "import transformers\n",
    "from transformers import pipeline"
   ],
   "id": "a58aaf26e6b73cd1",
   "outputs": [],
   "execution_count": 1
  },
  {
   "metadata": {
    "ExecuteTime": {
     "end_time": "2024-06-22T20:05:48.491790Z",
     "start_time": "2024-06-22T20:04:59.918702Z"
    }
   },
   "cell_type": "code",
   "source": "gerador = pipeline(\"text-generation\", model=\"egonrp/gpt2-small-portuguese\")",
   "id": "c6005c9908e61d81",
   "outputs": [
    {
     "data": {
      "text/plain": [
       "config.json:   0%|          | 0.00/666 [00:00<?, ?B/s]"
      ],
      "application/vnd.jupyter.widget-view+json": {
       "version_major": 2,
       "version_minor": 0,
       "model_id": "e939414c4dfa48639083ff2b3f63db49"
      }
     },
     "metadata": {},
     "output_type": "display_data"
    },
    {
     "name": "stdout",
     "output_type": "stream",
     "text": [
      "WARNING:tensorflow:From C:\\Users\\Nayan Couto\\.conda\\envs\\POO\\Lib\\site-packages\\tf_keras\\src\\losses.py:2976: The name tf.losses.sparse_softmax_cross_entropy is deprecated. Please use tf.compat.v1.losses.sparse_softmax_cross_entropy instead.\n",
      "\n"
     ]
    },
    {
     "data": {
      "text/plain": [
       "pytorch_model.bin:   0%|          | 0.00/510M [00:00<?, ?B/s]"
      ],
      "application/vnd.jupyter.widget-view+json": {
       "version_major": 2,
       "version_minor": 0,
       "model_id": "110d1d1b948649ba823074f5432df807"
      }
     },
     "metadata": {},
     "output_type": "display_data"
    },
    {
     "data": {
      "text/plain": [
       "tokenizer_config.json:   0%|          | 0.00/92.0 [00:00<?, ?B/s]"
      ],
      "application/vnd.jupyter.widget-view+json": {
       "version_major": 2,
       "version_minor": 0,
       "model_id": "46272bca825341299064d776622e9a83"
      }
     },
     "metadata": {},
     "output_type": "display_data"
    },
    {
     "data": {
      "text/plain": [
       "vocab.json:   0%|          | 0.00/850k [00:00<?, ?B/s]"
      ],
      "application/vnd.jupyter.widget-view+json": {
       "version_major": 2,
       "version_minor": 0,
       "model_id": "0e79714bbac446749f25a87b51cc1260"
      }
     },
     "metadata": {},
     "output_type": "display_data"
    },
    {
     "data": {
      "text/plain": [
       "merges.txt:   0%|          | 0.00/508k [00:00<?, ?B/s]"
      ],
      "application/vnd.jupyter.widget-view+json": {
       "version_major": 2,
       "version_minor": 0,
       "model_id": "a8eb80131d80401e91521abd91093483"
      }
     },
     "metadata": {},
     "output_type": "display_data"
    },
    {
     "data": {
      "text/plain": [
       "tokenizer.json:   0%|          | 0.00/2.21M [00:00<?, ?B/s]"
      ],
      "application/vnd.jupyter.widget-view+json": {
       "version_major": 2,
       "version_minor": 0,
       "model_id": "cae650ff48e04e1182875de0984e27ff"
      }
     },
     "metadata": {},
     "output_type": "display_data"
    },
    {
     "data": {
      "text/plain": [
       "special_tokens_map.json:   0%|          | 0.00/120 [00:00<?, ?B/s]"
      ],
      "application/vnd.jupyter.widget-view+json": {
       "version_major": 2,
       "version_minor": 0,
       "model_id": "a1f5e090689a4b0284be9da19eb76896"
      }
     },
     "metadata": {},
     "output_type": "display_data"
    }
   ],
   "execution_count": 2
  },
  {
   "metadata": {
    "ExecuteTime": {
     "end_time": "2024-06-22T20:06:05.236993Z",
     "start_time": "2024-06-22T20:06:05.230703Z"
    }
   },
   "cell_type": "code",
   "source": "texto = \"Em sentido estrito, ciência refere-se ao sistema de adquirir conhecimento baseado no método científico.\"",
   "id": "c0ffb418db0f903d",
   "outputs": [],
   "execution_count": 3
  },
  {
   "metadata": {
    "ExecuteTime": {
     "end_time": "2024-06-22T20:08:17.282801Z",
     "start_time": "2024-06-22T20:08:13.907941Z"
    }
   },
   "cell_type": "code",
   "source": "resultado = gerador(texto, max_length=60, do_sample=True)",
   "id": "f1b1472946af0681",
   "outputs": [],
   "execution_count": 8
  },
  {
   "metadata": {
    "ExecuteTime": {
     "end_time": "2024-06-22T20:08:19.922603Z",
     "start_time": "2024-06-22T20:08:19.916169Z"
    }
   },
   "cell_type": "code",
   "source": "print(resultado)",
   "id": "8c460ada7cf0f556",
   "outputs": [
    {
     "name": "stdout",
     "output_type": "stream",
     "text": [
      "[{'generated_text': 'Em sentido estrito, ciência refere-se ao sistema de adquirir conhecimento baseado no método científico. O nome deriva de um latim primitivo, do latim \"sialtus\".\\n\\nO primeiro texto a ser escrito de uma língua portuguesa é o \"\"Depoimentos de Alertas\"\", publicado em meados do'}]\n"
     ]
    }
   ],
   "execution_count": 9
  }
 ],
 "metadata": {
  "kernelspec": {
   "display_name": "Python 3",
   "language": "python",
   "name": "python3"
  },
  "language_info": {
   "codemirror_mode": {
    "name": "ipython",
    "version": 2
   },
   "file_extension": ".py",
   "mimetype": "text/x-python",
   "name": "python",
   "nbconvert_exporter": "python",
   "pygments_lexer": "ipython2",
   "version": "2.7.6"
  }
 },
 "nbformat": 4,
 "nbformat_minor": 5
}
